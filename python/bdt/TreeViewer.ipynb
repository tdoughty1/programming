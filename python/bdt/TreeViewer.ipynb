{
 "metadata": {
  "name": ""
 },
 "nbformat": 3,
 "nbformat_minor": 0,
 "worksheets": [
  {
   "cells": [
    {
     "cell_type": "code",
     "collapsed": false,
     "input": [
      "import os\n",
      "import numpy as np\n",
      "import pandas as pd\n",
      "import matplotlib.pyplot as plt\n",
      "from sklearn.datasets import make_classification\n",
      "from Tree import Tree"
     ],
     "language": "python",
     "metadata": {},
     "outputs": [],
     "prompt_number": 1
    },
    {
     "cell_type": "code",
     "collapsed": true,
     "input": [
      "datafile = pd.HDFStore('datafile.h5')\n",
      "\n",
      "newdata = True\n",
      "\n",
      "df = None\n",
      "\n",
      "if newdata:\n",
      "    nEvent = 100\n",
      "    nClass = 4\n",
      "\n",
      "    varNames = []\n",
      "\n",
      "    for i in range(nClass):\n",
      "        varNames.append('var' + str(i+1))\n",
      "\n",
      "    tempdata = make_classification(nEvent, nClass)\n",
      "\n",
      "    df = pd.DataFrame(tempdata[0])\n",
      "    df.columns = varNames\n",
      "    df['Rand'] = np.random.rand(len(df))\n",
      "    df['Class'] = tempdata[1]\n",
      "\n",
      "    datafile['df'] = df\n",
      "else:\n",
      "    df = datafile['df']\n",
      "\n",
      "for col in df.columns:\n",
      "    \n",
      "    if col == 'Rand' or col == 'Class':\n",
      "        continue\n",
      "    \n",
      "    f, ax = plt.subplots(1)\n",
      "    ax.plot(df[col][df['Class']==1], df['Rand'][df['Class']==1],'b.', label='Signal')\n",
      "    ax.plot(df[col][df['Class']==0], df['Rand'][df['Class']==0],'g.', label='Background')\n",
      "    ax.set_xlabel(col)\n",
      "    ax.set_ylabel('Random Variable')\n",
      "    ax.set_title('Distribution of %s' % col)\n",
      "    ax.legend()\n",
      "    f.savefig('figs/%s_dist.png' % col)\n",
      "    \n",
      "tree1 = Tree(df, plots=True)\n",
      "\n",
      "for i in range(1, 5):\n",
      "    print \"Creating animation animation/var%d.gif\" % i\n",
      "    \n",
      "    os.system('convert -delay 10 -loop 0 animation/var%d*.png animation/var%d.gif' % (i, i))\n",
      "    os.system('rm animation/var%d*.png'  % i)"
     ],
     "language": "python",
     "metadata": {},
     "outputs": [
      {
       "output_type": "stream",
       "stream": "stdout",
       "text": [
        "Creating animation animation/var1.gif\n",
        "Creating animation animation/var2.gif"
       ]
      },
      {
       "output_type": "stream",
       "stream": "stdout",
       "text": [
        "\n",
        "Creating animation animation/var3.gif"
       ]
      },
      {
       "output_type": "stream",
       "stream": "stdout",
       "text": [
        "\n",
        "Creating animation animation/var4.gif"
       ]
      },
      {
       "output_type": "stream",
       "stream": "stdout",
       "text": [
        "\n"
       ]
      }
     ],
     "prompt_number": 2
    },
    {
     "cell_type": "code",
     "collapsed": false,
     "input": [
      "# -*- coding: utf-8 -*-\n",
      "\"\"\"\n",
      "pydot example 2\n",
      "@author: Federico C\u00e1ceres\n",
      "@url: http://pythonhaven.wordpress.com/2009/12/09/generating_graphs_with_pydot\n",
      "\"\"\"\n",
      "import pydot\n",
      "\n",
      "# this time, in graph_type we specify we want a DIrected GRAPH\n",
      "graph = pydot.Dot(graph_type='digraph')\n",
      "\n",
      "# in the last example, we did no explicitly create nodes, we just created the edges and\n",
      "# they automatically placed nodes on the graph. Unfortunately, this way we cannot specify\n",
      "# custom styles for the nodes (although you CAN set a default style for all objects on\n",
      "# the graph...), so let's create the nodes manually.\n",
      "\n",
      "# creating nodes is as simple as creating edges!\n",
      "# but... what are all those extra stuff after \"Node A\"?\n",
      "# well, these arguments define how the node is going to look on the graph,\n",
      "# you can find a full reference here:\n",
      "# http://www.graphviz.org/doc/info/attrs.html\n",
      "# which in turn is part of the full docs in\n",
      "# http://www.graphviz.org/Documentation.php\n",
      "# neat, huh? Let us create the rest of the nodes!\n",
      "PlotNodes = []\n",
      "\n",
      "for node in Tree.Objects:\n",
      "    PlotNodes.append((pydot.Node(\"B=%d, S=%d\" % (node._nBgd, node._nSig)), node))\n",
      "\n",
      "#ok, now we add the nodes to the graph\n",
      "for gnode in PlotNodes:\n",
      "    graph.add_node(gnode[0])\n",
      "\n",
      "# and finally we create the edges\n",
      "# to keep it short, I'll be adding the edge automatically to the graph instead\n",
      "# of keeping a reference to it in a variable\n",
      "for node in PlotNodes:\n",
      "    \n",
      "    treenode = node[1]\n",
      "    graphnode1 = node[0]\n",
      "    \n",
      "    # If not a final node\n",
      "    if treenode.left is not None:\n",
      "        \n",
      "        graphnodeL = None\n",
      "        graphnodeR = None\n",
      "        \n",
      "        # Loop treenodes to find connecting graph node of left and right treenodes\n",
      "        for node2 in PlotNodes:\n",
      "            if node2[1] is treenode.left:\n",
      "                graphNodeL = node2[0]\n",
      "                print \"Found Left Node\"\n",
      "            if node2[1] is treenode.right:\n",
      "                graphNodeR = node2[0]\n",
      "                print \"Found Right Node\"                \n",
      "        \n",
      "        if graphnodeL is None or graphnodeR is None:\n",
      "            exit()\n",
      "        else:\n",
      "            print type(graphnode1)\n",
      "            print type(graphnodeL)\n",
      "            print type(graphnodeR)\n",
      "            print \"Adding Edge\"\n",
      "            print \"Adding Edge\"\n",
      "            graph.add_edge(pydot.Edge(graphnode1, graphnodeL))\n",
      "            graph.add_edge(pydot.Edge(graphnode1, graphnodeR))\n",
      "\n",
      "    # Otherwise, no need to add edge\n",
      "    else:\n",
      "        continue\n",
      "\n",
      "# but, let's make this last edge special, yes?\n",
      "#graph.add_edge(pydot.Edge(node_d, node_a, label=\"and back we go again\", labelfontcolor=\"#009933\", fontsize=\"10.0\", color=\"blue\"))\n",
      "\n",
      "# and we are done\n",
      "graph.write_png('example2_graph.png')\n",
      "\n",
      "# this is too good to be true!"
     ],
     "language": "python",
     "metadata": {},
     "outputs": [
      {
       "output_type": "stream",
       "stream": "stdout",
       "text": [
        "Found Left Node\n",
        "Found Right Node\n",
        "Found Left Node\n",
        "Found Right Node\n"
       ]
      },
      {
       "metadata": {},
       "output_type": "pyout",
       "prompt_number": 3,
       "text": [
        "True"
       ]
      }
     ],
     "prompt_number": 3
    },
    {
     "cell_type": "code",
     "collapsed": false,
     "input": [],
     "language": "python",
     "metadata": {},
     "outputs": [
      {
       "ename": "SyntaxError",
       "evalue": "invalid syntax (<ipython-input-4-d19374e1b2dd>, line 1)",
       "output_type": "pyerr",
       "traceback": [
        "\u001b[1;36m  File \u001b[1;32m\"<ipython-input-4-d19374e1b2dd>\"\u001b[1;36m, line \u001b[1;32m1\u001b[0m\n\u001b[1;33m    for node in Tree.Objects\u001b[0m\n\u001b[1;37m                            ^\u001b[0m\n\u001b[1;31mSyntaxError\u001b[0m\u001b[1;31m:\u001b[0m invalid syntax\n"
       ]
      }
     ],
     "prompt_number": "*"
    }
   ],
   "metadata": {}
  }
 ]
}